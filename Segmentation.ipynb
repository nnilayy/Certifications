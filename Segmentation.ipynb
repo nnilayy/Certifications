{
  "nbformat": 4,
  "nbformat_minor": 0,
  "metadata": {
    "colab": {
      "provenance": [],
      "authorship_tag": "ABX9TyPvf55sXpLM1qUnTvbTFmVV",
      "include_colab_link": true
    },
    "kernelspec": {
      "name": "python3",
      "display_name": "Python 3"
    },
    "language_info": {
      "name": "python"
    },
    "accelerator": "GPU",
    "gpuClass": "standard"
  },
  "cells": [
    {
      "cell_type": "markdown",
      "metadata": {
        "id": "view-in-github",
        "colab_type": "text"
      },
      "source": [
        "<a href=\"https://colab.research.google.com/github/nnilayy/Certifications/blob/main/Segmentation.ipynb\" target=\"_parent\"><img src=\"https://colab.research.google.com/assets/colab-badge.svg\" alt=\"Open In Colab\"/></a>"
      ]
    },
    {
      "cell_type": "code",
      "execution_count": 1,
      "metadata": {
        "id": "FkRHSe0ZPmWt"
      },
      "outputs": [],
      "source": [
        "import cv2\n",
        "import glob \n",
        "import numpy as np\n",
        "import matplotlib.pyplot as plt\n",
        "from google.colab.patches import cv2_imshow\n",
        "import tensorflow as tf"
      ]
    },
    {
      "cell_type": "markdown",
      "source": [
        "## Drive"
      ],
      "metadata": {
        "id": "xJREi9-7H2y4"
      }
    },
    {
      "cell_type": "code",
      "source": [
        "from google.colab import drive\n",
        "drive.mount('/content/drive')"
      ],
      "metadata": {
        "id": "tbrAFatrHb5K"
      },
      "execution_count": null,
      "outputs": []
    },
    {
      "cell_type": "markdown",
      "source": [
        "## Dataset"
      ],
      "metadata": {
        "id": "Pf8SR1GJHNMI"
      }
    },
    {
      "cell_type": "code",
      "source": [
        "import matplotlib.pyplot as plt\n",
        "import cv2 \n",
        "import glob \n",
        "import numpy as np\n",
        "X=[]\n",
        "y=[]\n",
        "images=sorted(glob.glob('/content/drive/MyDrive/Balls/Images/*'))\n",
        "masks=sorted(glob.glob('/content/drive/MyDrive/Balls/Masks/*'))\n",
        "\n",
        "for image in images:\n",
        "  image=cv2.imread(image,cv2.IMREAD_GRAYSCALE)\n",
        "  image=cv2.resize(image,(64,64))\n",
        "  image=image/255\n",
        "  image=np.array(image)\n",
        "  X.append(image)\n",
        "\n",
        "for mask in masks:\n",
        "  mask=cv2.imread(mask,cv2.IMREAD_GRAYSCALE)\n",
        "  mask=cv2.resize(mask,(64,64))\n",
        "  mask=mask/255\n",
        "  mask=np.array(mask)\n",
        "  mask=np.where(mask>0.5,1,0).astype(mask.dtype)\n",
        "  y.append(mask)"
      ],
      "metadata": {
        "id": "r3T7Fvc4qMGB"
      },
      "execution_count": 5,
      "outputs": []
    },
    {
      "cell_type": "code",
      "source": [
        "X=np.array(X)\n",
        "y=np.array(y)"
      ],
      "metadata": {
        "id": "xUZTMqyDOQsl"
      },
      "execution_count": 6,
      "outputs": []
    },
    {
      "cell_type": "code",
      "source": [
        "len(images)\n",
        "X.shape"
      ],
      "metadata": {
        "id": "ASmlcXn5KhzX"
      },
      "execution_count": null,
      "outputs": []
    },
    {
      "cell_type": "markdown",
      "source": [
        "## Visualizing Images and Masks"
      ],
      "metadata": {
        "id": "fQbjklFD0R2_"
      }
    },
    {
      "cell_type": "code",
      "source": [
        "index=456\n",
        "image=X[index]\n",
        "mask=y[index]\n",
        "plt.subplot(1, 2, 1)\n",
        "plt.imshow(image,cmap='gray')\n",
        "plt.subplot(1, 2, 2)\n",
        "plt.imshow(mask,cmap='gray')\n",
        "plt.show()"
      ],
      "metadata": {
        "colab": {
          "base_uri": "https://localhost:8080/",
          "height": 203
        },
        "id": "QHNOR-XSzdf5",
        "outputId": "e6395d7f-d1e3-4d7e-b31e-1173e232aed1"
      },
      "execution_count": 12,
      "outputs": [
        {
          "output_type": "display_data",
          "data": {
            "text/plain": [
              "<Figure size 432x288 with 2 Axes>"
            ],
            "image/png": "[encoded data removed]"
          },
          "metadata": {
            "needs_background": "light"
          }
        }
      ]
    },
    {
      "cell_type": "markdown",
      "source": [
        "## Model"
      ],
      "metadata": {
        "id": "ujV62CDqHR0R"
      }
    },
    {
      "cell_type": "code",
      "source": [
        "from tensorflow.keras.models import Sequential\n",
        "from tensorflow.keras.layers import Dense, Input,Conv2D, MaxPooling2D, Resizing,AveragePooling2D, Flatten, Dropout, BatchNormalization, InputLayer, Reshape\n",
        "model = Sequential()\n",
        "model.add(InputLayer(input_shape=(64, 64, 1)))\n",
        "model.add(Conv2D(64, 2, padding='same', activation=\"relu\"))\n",
        "\n",
        "model.add(Resizing(64, 64, interpolation='nearest'))\n",
        "\n",
        "# model.add(AveragePooling2D(2, padding='same'))\n",
        "# model.add(Conv2D(8, 3, padding='same', activation=\"relu\"))\n",
        "# model.add(AveragePooling2D(2, padding='same'))\n",
        "# model.add(Conv2D(4, 3, padding='same', activation=\"relu\"))\n",
        "# model.add(AveragePooling2D(2, padding='same'))\n",
        "# model.add(Conv2D(1, 1, padding='same', activation=\"relu\"))\n",
        "# model.add(Resizing(64, 64, interpolation='bilinear'))\n",
        "\n",
        "# model.add(Conv2D(16, 3, padding='same', activation=\"relu\"))\n",
        "# model.add(AveragePooling2D(2, padding='same'))\n",
        "# model.add(Conv2D(8, 3, padding='same', activation=\"relu\"))\n",
        "# model.add(AveragePooling2D(2, padding='same'))\n",
        "# model.add(Conv2D(4, 3, padding='same', activation=\"relu\"))\n",
        "# model.add(AveragePooling2D(2, padding='same'))\n",
        "# model.add(Conv2D(1, 1, padding='same', activation=\"relu\"))\n",
        "# model.add(Resizing(64, 64, interpolation='bilinear'))\n",
        "\n",
        "# model.add(Conv2D(16, 3, padding='same', activation=\"relu\"))\n",
        "# model.add(AveragePooling2D(2, padding='same'))\n",
        "# model.add(Conv2D(8, 3, padding='same', activation=\"relu\"))\n",
        "# model.add(AveragePooling2D(2, padding='same'))\n",
        "# model.add(Conv2D(4, 3, padding='same', activation=\"relu\"))\n",
        "# model.add(AveragePooling2D(2, padding='same'))\n",
        "# model.add(Conv2D(1, 1, padding='same', activation=\"relu\"))\n",
        "# model.add(Resizing(64, 64, interpolation='bilinear'))\n",
        "\n",
        "# model.add(Conv2D(16, 3, padding='same', activation=\"relu\"))\n",
        "# model.add(AveragePooling2D(2, padding='same'))\n",
        "# model.add(Conv2D(8, 3, padding='same', activation=\"relu\"))\n",
        "# model.add(AveragePooling2D(2, padding='same'))\n",
        "# model.add(Conv2D(4, 3, padding='same', activation=\"relu\"))\n",
        "# model.add(AveragePooling2D(2, padding='same'))\n",
        "# model.add(Conv2D(1, 1, padding='same', activation=\"relu\"))\n",
        "# model.add(Resizing(64, 64, interpolation='bilinear'))\n",
        "# model.add(Flatten())\n",
        "# model.add(Dense(64, activation=\"relu\"))\n",
        "# model.add(Dense(4096, activation=\"relu\"))\n",
        "model.summary()"
      ],
      "metadata": {
        "id": "H2FJWYLtcKxE"
      },
      "execution_count": null,
      "outputs": []
    },
    {
      "cell_type": "code",
      "source": [
        "from keras.models import Model\n",
        "from keras.layers import concatenate\n",
        "image=Input(shape=(64, 64, 1))\n",
        "conv1=Conv2D(64, 3, padding='same', activation=\"relu\")(image)\n",
        "\n",
        "conv2=Conv2D(1, 1, padding='same', activation=\"relu\")(conv1)\n",
        "conc=concatenate([conv2, conv1])\n",
        "conv3=Conv2D(1, 1, padding='same', activation=\"relu\")(conc)\n",
        "\n",
        "# resize=Resizing(64, 64, interpolation='bilinear')(conv2)\n",
        "# av1=AveragePooling2D(2, padding='same')(conv1)\n",
        "# conv2=Conv2D(16, 3, padding='same', activation=\"relu\")(av1)\n",
        "# av2=AveragePooling2D(2, padding='same')(conv2)\n",
        "# conv3=Conv2D(8, 3, padding='same', activation=\"relu\")(av2)\n",
        "# av3=AveragePooling2D(2, padding='same')(conv3)\n",
        "# conv4=Conv2D(1, 1, padding='same', activation=\"relu\")(av3)\n",
        "\n",
        "\n",
        "# conv1=Conv2D(16, 3, padding='same', activation=\"relu\")(conc)\n",
        "# av1=AveragePooling2D(2, padding='same')(conv1)\n",
        "# conv2=Conv2D(8, 3, padding='same', activation=\"relu\")(av1)\n",
        "# av2=AveragePooling2D(2, padding='same')(conv2)\n",
        "# conv3=Conv2D(4, 3, padding='same', activation=\"relu\")(av2)\n",
        "# av3=AveragePooling2D(2, padding='same')(conv3)\n",
        "# conv4=Conv2D(1, 1, padding='same', activation=\"relu\")(av3)\n",
        "# resize=Resizing(64, 64, interpolation='bilinear')(conv4)\n",
        "\n",
        "# conc=concatenate([resize, image])\n",
        "\n",
        "# conv5=Conv2D(1, 1, padding='same', activation=\"relu\")(conc)\n",
        "\n",
        "model=Model(inputs=image, outputs=conv3)\n",
        "model.summary()"
      ],
      "metadata": {
        "id": "K0jugYvr6Fde"
      },
      "execution_count": null,
      "outputs": []
    },
    {
      "cell_type": "code",
      "source": [
        "import tensorflow as tf\n",
        "model.compile(loss=\"mse\", \n",
        "              optimizer=tf.keras.optimizers.experimental.RMSprop(learning_rate=1e-3),\n",
        "              metrics='mean_absolute_error')\n",
        "model.fit(X, y, steps_per_epoch=32, epochs=200, verbose=1)"
      ],
      "metadata": {
        "id": "K-89x6W6o_ZT",
        "colab": {
          "base_uri": "https://localhost:8080/",
          "height": 1000
        },
        "outputId": "853cd92b-ac19-4f16-c7fe-ae2d99e80820"
      },
      "execution_count": 28,
      "outputs": [
        {
          "output_type": "stream",
          "name": "stdout",
          "text": [
            "Epoch 1/200\n",
            "32/32 [==============================] - 2s 14ms/step - loss: 0.1345 - mean_absolute_error: 0.2375\n",
            "Epoch 2/200\n",
            "32/32 [==============================] - 0s 14ms/step - loss: 0.1282 - mean_absolute_error: 0.2518\n",
            "Epoch 3/200\n",
            "32/32 [==============================] - 0s 14ms/step - loss: 0.1258 - mean_absolute_error: 0.2428\n",
            "Epoch 4/200\n",
            "32/32 [==============================] - 0s 14ms/step - loss: 0.1249 - mean_absolute_error: 0.2470\n",
            "Epoch 5/200\n",
            "32/32 [==============================] - 0s 15ms/step - loss: 0.1237 - mean_absolute_error: 0.2402\n",
            "Epoch 6/200\n",
            "32/32 [==============================] - 0s 15ms/step - loss: 0.1211 - mean_absolute_error: 0.2387\n",
            "Epoch 7/200\n",
            "32/32 [==============================] - 0s 15ms/step - loss: 0.1228 - mean_absolute_error: 0.2391\n",
            "Epoch 8/200\n",
            "32/32 [==============================] - 0s 15ms/step - loss: 0.1212 - mean_absolute_error: 0.2362\n",
            "Epoch 9/200\n",
            "32/32 [==============================] - 0s 14ms/step - loss: 0.1217 - mean_absolute_error: 0.2367\n",
            "Epoch 10/200\n",
            "32/32 [==============================] - 0s 15ms/step - loss: 0.1211 - mean_absolute_error: 0.2393\n",
            "Epoch 11/200\n",
            "32/32 [==============================] - 0s 15ms/step - loss: 0.1210 - mean_absolute_error: 0.2349\n",
            "Epoch 12/200\n",
            "32/32 [==============================] - 0s 14ms/step - loss: 0.1207 - mean_absolute_error: 0.2300\n",
            "Epoch 13/200\n",
            "32/32 [==============================] - 0s 14ms/step - loss: 0.1215 - mean_absolute_error: 0.2389\n",
            "Epoch 14/200\n",
            "32/32 [==============================] - 0s 14ms/step - loss: 0.1193 - mean_absolute_error: 0.2340\n",
            "Epoch 15/200\n",
            "32/32 [==============================] - 0s 14ms/step - loss: 0.1207 - mean_absolute_error: 0.2310\n",
            "Epoch 16/200\n",
            "32/32 [==============================] - 0s 14ms/step - loss: 0.1208 - mean_absolute_error: 0.2353\n",
            "Epoch 17/200\n",
            "32/32 [==============================] - 0s 14ms/step - loss: 0.1197 - mean_absolute_error: 0.2336\n",
            "Epoch 18/200\n",
            "32/32 [==============================] - 0s 14ms/step - loss: 0.1193 - mean_absolute_error: 0.2316\n",
            "Epoch 19/200\n",
            "32/32 [==============================] - 0s 14ms/step - loss: 0.1193 - mean_absolute_error: 0.2319\n",
            "Epoch 20/200\n",
            "32/32 [==============================] - 0s 14ms/step - loss: 0.1182 - mean_absolute_error: 0.2326\n",
            "Epoch 21/200\n",
            "32/32 [==============================] - 0s 14ms/step - loss: 0.1198 - mean_absolute_error: 0.2316\n",
            "Epoch 22/200\n",
            "32/32 [==============================] - 0s 14ms/step - loss: 0.1192 - mean_absolute_error: 0.2330\n",
            "Epoch 23/200\n",
            "32/32 [==============================] - 0s 14ms/step - loss: 0.1193 - mean_absolute_error: 0.2293\n",
            "Epoch 24/200\n",
            "32/32 [==============================] - 0s 14ms/step - loss: 0.1199 - mean_absolute_error: 0.2350\n",
            "Epoch 25/200\n",
            "32/32 [==============================] - 0s 14ms/step - loss: 0.1189 - mean_absolute_error: 0.2292\n",
            "Epoch 26/200\n",
            "32/32 [==============================] - 0s 14ms/step - loss: 0.1192 - mean_absolute_error: 0.2314\n",
            "Epoch 27/200\n",
            "32/32 [==============================] - 0s 14ms/step - loss: 0.1185 - mean_absolute_error: 0.2306\n",
            "Epoch 28/200\n",
            "32/32 [==============================] - 0s 14ms/step - loss: 0.1178 - mean_absolute_error: 0.2279\n",
            "Epoch 29/200\n",
            "32/32 [==============================] - 0s 14ms/step - loss: 0.1182 - mean_absolute_error: 0.2279\n",
            "Epoch 30/200\n",
            "32/32 [==============================] - 0s 14ms/step - loss: 0.1190 - mean_absolute_error: 0.2331\n",
            "Epoch 31/200\n",
            "32/32 [==============================] - 0s 14ms/step - loss: 0.1187 - mean_absolute_error: 0.2291\n",
            "Epoch 32/200\n",
            "32/32 [==============================] - 0s 14ms/step - loss: 0.1175 - mean_absolute_error: 0.2276\n",
            "Epoch 33/200\n",
            "32/32 [==============================] - 0s 14ms/step - loss: 0.1179 - mean_absolute_error: 0.2282\n",
            "Epoch 34/200\n",
            "32/32 [==============================] - 0s 15ms/step - loss: 0.1181 - mean_absolute_error: 0.2272\n",
            "Epoch 35/200\n",
            "32/32 [==============================] - 0s 15ms/step - loss: 0.1184 - mean_absolute_error: 0.2290\n",
            "Epoch 36/200\n",
            "32/32 [==============================] - 0s 14ms/step - loss: 0.1179 - mean_absolute_error: 0.2289\n",
            "Epoch 37/200\n",
            "29/32 [==========================>...] - ETA: 0s - loss: 0.1165 - mean_absolute_error: 0.2285"
          ]
        },
        {
          "output_type": "error",
          "ename": "KeyboardInterrupt",
          "evalue": "ignored",
          "traceback": [
            "\u001b[0;31m---------------------------------------------------------------------------\u001b[0m",
            "\u001b[0;31mKeyboardInterrupt\u001b[0m                         Traceback (most recent call last)",
            "\u001b[0;32m<ipython-input-28-d328762a28d7>\u001b[0m in \u001b[0;36m<module>\u001b[0;34m\u001b[0m\n\u001b[1;32m      3\u001b[0m               \u001b[0moptimizer\u001b[0m\u001b[0;34m=\u001b[0m\u001b[0mtf\u001b[0m\u001b[0;34m.\u001b[0m\u001b[0mkeras\u001b[0m\u001b[0;34m.\u001b[0m\u001b[0moptimizers\u001b[0m\u001b[0;34m.\u001b[0m\u001b[0mexperimental\u001b[0m\u001b[0;34m.\u001b[0m\u001b[0mRMSprop\u001b[0m\u001b[0;34m(\u001b[0m\u001b[0mlearning_rate\u001b[0m\u001b[0;34m=\u001b[0m\u001b[0;36m1e-3\u001b[0m\u001b[0;34m)\u001b[0m\u001b[0;34m,\u001b[0m\u001b[0;34m\u001b[0m\u001b[0;34m\u001b[0m\u001b[0m\n\u001b[1;32m      4\u001b[0m               metrics='mean_absolute_error')\n\u001b[0;32m----> 5\u001b[0;31m \u001b[0mmodel\u001b[0m\u001b[0;34m.\u001b[0m\u001b[0mfit\u001b[0m\u001b[0;34m(\u001b[0m\u001b[0mX\u001b[0m\u001b[0;34m,\u001b[0m \u001b[0my\u001b[0m\u001b[0;34m,\u001b[0m \u001b[0msteps_per_epoch\u001b[0m\u001b[0;34m=\u001b[0m\u001b[0;36m32\u001b[0m\u001b[0;34m,\u001b[0m \u001b[0mepochs\u001b[0m\u001b[0;34m=\u001b[0m\u001b[0;36m200\u001b[0m\u001b[0;34m,\u001b[0m \u001b[0mverbose\u001b[0m\u001b[0;34m=\u001b[0m\u001b[0;36m1\u001b[0m\u001b[0;34m)\u001b[0m\u001b[0;34m\u001b[0m\u001b[0;34m\u001b[0m\u001b[0m\n\u001b[0m",
            "\u001b[0;32m/usr/local/lib/python3.8/dist-packages/keras/utils/traceback_utils.py\u001b[0m in \u001b[0;36merror_handler\u001b[0;34m(*args, **kwargs)\u001b[0m\n\u001b[1;32m     63\u001b[0m         \u001b[0mfiltered_tb\u001b[0m \u001b[0;34m=\u001b[0m \u001b[0;32mNone\u001b[0m\u001b[0;34m\u001b[0m\u001b[0;34m\u001b[0m\u001b[0m\n\u001b[1;32m     64\u001b[0m         \u001b[0;32mtry\u001b[0m\u001b[0;34m:\u001b[0m\u001b[0;34m\u001b[0m\u001b[0;34m\u001b[0m\u001b[0m\n\u001b[0;32m---> 65\u001b[0;31m             \u001b[0;32mreturn\u001b[0m \u001b[0mfn\u001b[0m\u001b[0;34m(\u001b[0m\u001b[0;34m*\u001b[0m\u001b[0margs\u001b[0m\u001b[0;34m,\u001b[0m \u001b[0;34m**\u001b[0m\u001b[0mkwargs\u001b[0m\u001b[0;34m)\u001b[0m\u001b[0;34m\u001b[0m\u001b[0;34m\u001b[0m\u001b[0m\n\u001b[0m\u001b[1;32m     66\u001b[0m         \u001b[0;32mexcept\u001b[0m \u001b[0mException\u001b[0m \u001b[0;32mas\u001b[0m \u001b[0me\u001b[0m\u001b[0;34m:\u001b[0m\u001b[0;34m\u001b[0m\u001b[0;34m\u001b[0m\u001b[0m\n\u001b[1;32m     67\u001b[0m             \u001b[0mfiltered_tb\u001b[0m \u001b[0;34m=\u001b[0m \u001b[0m_process_traceback_frames\u001b[0m\u001b[0;34m(\u001b[0m\u001b[0me\u001b[0m\u001b[0;34m.\u001b[0m\u001b[0m__traceback__\u001b[0m\u001b[0;34m)\u001b[0m\u001b[0;34m\u001b[0m\u001b[0;34m\u001b[0m\u001b[0m\n",
            "\u001b[0;32m/usr/local/lib/python3.8/dist-packages/keras/engine/training.py\u001b[0m in \u001b[0;36mfit\u001b[0;34m(self, x, y, batch_size, epochs, verbose, callbacks, validation_split, validation_data, shuffle, class_weight, sample_weight, initial_epoch, steps_per_epoch, validation_steps, validation_batch_size, validation_freq, max_queue_size, workers, use_multiprocessing)\u001b[0m\n\u001b[1;32m   1648\u001b[0m                         ):\n\u001b[1;32m   1649\u001b[0m                             \u001b[0mcallbacks\u001b[0m\u001b[0;34m.\u001b[0m\u001b[0mon_train_batch_begin\u001b[0m\u001b[0;34m(\u001b[0m\u001b[0mstep\u001b[0m\u001b[0;34m)\u001b[0m\u001b[0;34m\u001b[0m\u001b[0;34m\u001b[0m\u001b[0m\n\u001b[0;32m-> 1650\u001b[0;31m                             \u001b[0mtmp_logs\u001b[0m \u001b[0;34m=\u001b[0m \u001b[0mself\u001b[0m\u001b[0;34m.\u001b[0m\u001b[0mtrain_function\u001b[0m\u001b[0;34m(\u001b[0m\u001b[0miterator\u001b[0m\u001b[0;34m)\u001b[0m\u001b[0;34m\u001b[0m\u001b[0;34m\u001b[0m\u001b[0m\n\u001b[0m\u001b[1;32m   1651\u001b[0m                             \u001b[0;32mif\u001b[0m \u001b[0mdata_handler\u001b[0m\u001b[0;34m.\u001b[0m\u001b[0mshould_sync\u001b[0m\u001b[0;34m:\u001b[0m\u001b[0;34m\u001b[0m\u001b[0;34m\u001b[0m\u001b[0m\n\u001b[1;32m   1652\u001b[0m                                 \u001b[0mcontext\u001b[0m\u001b[0;34m.\u001b[0m\u001b[0masync_wait\u001b[0m\u001b[0;34m(\u001b[0m\u001b[0;34m)\u001b[0m\u001b[0;34m\u001b[0m\u001b[0;34m\u001b[0m\u001b[0m\n",
            "\u001b[0;32m/usr/local/lib/python3.8/dist-packages/tensorflow/python/util/traceback_utils.py\u001b[0m in \u001b[0;36merror_handler\u001b[0;34m(*args, **kwargs)\u001b[0m\n\u001b[1;32m    148\u001b[0m     \u001b[0mfiltered_tb\u001b[0m \u001b[0;34m=\u001b[0m \u001b[0;32mNone\u001b[0m\u001b[0;34m\u001b[0m\u001b[0;34m\u001b[0m\u001b[0m\n\u001b[1;32m    149\u001b[0m     \u001b[0;32mtry\u001b[0m\u001b[0;34m:\u001b[0m\u001b[0;34m\u001b[0m\u001b[0;34m\u001b[0m\u001b[0m\n\u001b[0;32m--> 150\u001b[0;31m       \u001b[0;32mreturn\u001b[0m \u001b[0mfn\u001b[0m\u001b[0;34m(\u001b[0m\u001b[0;34m*\u001b[0m\u001b[0margs\u001b[0m\u001b[0;34m,\u001b[0m \u001b[0;34m**\u001b[0m\u001b[0mkwargs\u001b[0m\u001b[0;34m)\u001b[0m\u001b[0;34m\u001b[0m\u001b[0;34m\u001b[0m\u001b[0m\n\u001b[0m\u001b[1;32m    151\u001b[0m     \u001b[0;32mexcept\u001b[0m \u001b[0mException\u001b[0m \u001b[0;32mas\u001b[0m \u001b[0me\u001b[0m\u001b[0;34m:\u001b[0m\u001b[0;34m\u001b[0m\u001b[0;34m\u001b[0m\u001b[0m\n\u001b[1;32m    152\u001b[0m       \u001b[0mfiltered_tb\u001b[0m \u001b[0;34m=\u001b[0m \u001b[0m_process_traceback_frames\u001b[0m\u001b[0;34m(\u001b[0m\u001b[0me\u001b[0m\u001b[0;34m.\u001b[0m\u001b[0m__traceback__\u001b[0m\u001b[0;34m)\u001b[0m\u001b[0;34m\u001b[0m\u001b[0;34m\u001b[0m\u001b[0m\n",
            "\u001b[0;32m/usr/local/lib/python3.8/dist-packages/tensorflow/python/eager/polymorphic_function/polymorphic_function.py\u001b[0m in \u001b[0;36m__call__\u001b[0;34m(self, *args, **kwds)\u001b[0m\n\u001b[1;32m    878\u001b[0m \u001b[0;34m\u001b[0m\u001b[0m\n\u001b[1;32m    879\u001b[0m       \u001b[0;32mwith\u001b[0m \u001b[0mOptionalXlaContext\u001b[0m\u001b[0;34m(\u001b[0m\u001b[0mself\u001b[0m\u001b[0;34m.\u001b[0m\u001b[0m_jit_compile\u001b[0m\u001b[0;34m)\u001b[0m\u001b[0;34m:\u001b[0m\u001b[0;34m\u001b[0m\u001b[0;34m\u001b[0m\u001b[0m\n\u001b[0;32m--> 880\u001b[0;31m         \u001b[0mresult\u001b[0m \u001b[0;34m=\u001b[0m \u001b[0mself\u001b[0m\u001b[0;34m.\u001b[0m\u001b[0m_call\u001b[0m\u001b[0;34m(\u001b[0m\u001b[0;34m*\u001b[0m\u001b[0margs\u001b[0m\u001b[0;34m,\u001b[0m \u001b[0;34m**\u001b[0m\u001b[0mkwds\u001b[0m\u001b[0;34m)\u001b[0m\u001b[0;34m\u001b[0m\u001b[0;34m\u001b[0m\u001b[0m\n\u001b[0m\u001b[1;32m    881\u001b[0m \u001b[0;34m\u001b[0m\u001b[0m\n\u001b[1;32m    882\u001b[0m       \u001b[0mnew_tracing_count\u001b[0m \u001b[0;34m=\u001b[0m \u001b[0mself\u001b[0m\u001b[0;34m.\u001b[0m\u001b[0mexperimental_get_tracing_count\u001b[0m\u001b[0;34m(\u001b[0m\u001b[0;34m)\u001b[0m\u001b[0;34m\u001b[0m\u001b[0;34m\u001b[0m\u001b[0m\n",
            "\u001b[0;32m/usr/local/lib/python3.8/dist-packages/tensorflow/python/eager/polymorphic_function/polymorphic_function.py\u001b[0m in \u001b[0;36m_call\u001b[0;34m(self, *args, **kwds)\u001b[0m\n\u001b[1;32m    910\u001b[0m       \u001b[0;31m# In this case we have created variables on the first call, so we run the\u001b[0m\u001b[0;34m\u001b[0m\u001b[0;34m\u001b[0m\u001b[0;34m\u001b[0m\u001b[0m\n\u001b[1;32m    911\u001b[0m       \u001b[0;31m# defunned version which is guaranteed to never create variables.\u001b[0m\u001b[0;34m\u001b[0m\u001b[0;34m\u001b[0m\u001b[0;34m\u001b[0m\u001b[0m\n\u001b[0;32m--> 912\u001b[0;31m       \u001b[0;32mreturn\u001b[0m \u001b[0mself\u001b[0m\u001b[0;34m.\u001b[0m\u001b[0m_no_variable_creation_fn\u001b[0m\u001b[0;34m(\u001b[0m\u001b[0;34m*\u001b[0m\u001b[0margs\u001b[0m\u001b[0;34m,\u001b[0m \u001b[0;34m**\u001b[0m\u001b[0mkwds\u001b[0m\u001b[0;34m)\u001b[0m  \u001b[0;31m# pylint: disable=not-callable\u001b[0m\u001b[0;34m\u001b[0m\u001b[0;34m\u001b[0m\u001b[0m\n\u001b[0m\u001b[1;32m    913\u001b[0m     \u001b[0;32melif\u001b[0m \u001b[0mself\u001b[0m\u001b[0;34m.\u001b[0m\u001b[0m_variable_creation_fn\u001b[0m \u001b[0;32mis\u001b[0m \u001b[0;32mnot\u001b[0m \u001b[0;32mNone\u001b[0m\u001b[0;34m:\u001b[0m\u001b[0;34m\u001b[0m\u001b[0;34m\u001b[0m\u001b[0m\n\u001b[1;32m    914\u001b[0m       \u001b[0;31m# Release the lock early so that multiple threads can perform the call\u001b[0m\u001b[0;34m\u001b[0m\u001b[0;34m\u001b[0m\u001b[0;34m\u001b[0m\u001b[0m\n",
            "\u001b[0;32m/usr/local/lib/python3.8/dist-packages/tensorflow/python/eager/polymorphic_function/tracing_compiler.py\u001b[0m in \u001b[0;36m__call__\u001b[0;34m(self, *args, **kwargs)\u001b[0m\n\u001b[1;32m    132\u001b[0m       (concrete_function,\n\u001b[1;32m    133\u001b[0m        filtered_flat_args) = self._maybe_define_function(args, kwargs)\n\u001b[0;32m--> 134\u001b[0;31m     return concrete_function._call_flat(\n\u001b[0m\u001b[1;32m    135\u001b[0m         filtered_flat_args, captured_inputs=concrete_function.captured_inputs)  # pylint: disable=protected-access\n\u001b[1;32m    136\u001b[0m \u001b[0;34m\u001b[0m\u001b[0m\n",
            "\u001b[0;32m/usr/local/lib/python3.8/dist-packages/tensorflow/python/eager/polymorphic_function/monomorphic_function.py\u001b[0m in \u001b[0;36m_call_flat\u001b[0;34m(self, args, captured_inputs, cancellation_manager)\u001b[0m\n\u001b[1;32m   1743\u001b[0m         and executing_eagerly):\n\u001b[1;32m   1744\u001b[0m       \u001b[0;31m# No tape is watching; skip to running the function.\u001b[0m\u001b[0;34m\u001b[0m\u001b[0;34m\u001b[0m\u001b[0;34m\u001b[0m\u001b[0m\n\u001b[0;32m-> 1745\u001b[0;31m       return self._build_call_outputs(self._inference_function.call(\n\u001b[0m\u001b[1;32m   1746\u001b[0m           ctx, args, cancellation_manager=cancellation_manager))\n\u001b[1;32m   1747\u001b[0m     forward_backward = self._select_forward_and_backward_functions(\n",
            "\u001b[0;32m/usr/local/lib/python3.8/dist-packages/tensorflow/python/eager/polymorphic_function/monomorphic_function.py\u001b[0m in \u001b[0;36mcall\u001b[0;34m(self, ctx, args, cancellation_manager)\u001b[0m\n\u001b[1;32m    376\u001b[0m       \u001b[0;32mwith\u001b[0m \u001b[0m_InterpolateFunctionError\u001b[0m\u001b[0;34m(\u001b[0m\u001b[0mself\u001b[0m\u001b[0;34m)\u001b[0m\u001b[0;34m:\u001b[0m\u001b[0;34m\u001b[0m\u001b[0;34m\u001b[0m\u001b[0m\n\u001b[1;32m    377\u001b[0m         \u001b[0;32mif\u001b[0m \u001b[0mcancellation_manager\u001b[0m \u001b[0;32mis\u001b[0m \u001b[0;32mNone\u001b[0m\u001b[0;34m:\u001b[0m\u001b[0;34m\u001b[0m\u001b[0;34m\u001b[0m\u001b[0m\n\u001b[0;32m--> 378\u001b[0;31m           outputs = execute.execute(\n\u001b[0m\u001b[1;32m    379\u001b[0m               \u001b[0mstr\u001b[0m\u001b[0;34m(\u001b[0m\u001b[0mself\u001b[0m\u001b[0;34m.\u001b[0m\u001b[0msignature\u001b[0m\u001b[0;34m.\u001b[0m\u001b[0mname\u001b[0m\u001b[0;34m)\u001b[0m\u001b[0;34m,\u001b[0m\u001b[0;34m\u001b[0m\u001b[0;34m\u001b[0m\u001b[0m\n\u001b[1;32m    380\u001b[0m               \u001b[0mnum_outputs\u001b[0m\u001b[0;34m=\u001b[0m\u001b[0mself\u001b[0m\u001b[0;34m.\u001b[0m\u001b[0m_num_outputs\u001b[0m\u001b[0;34m,\u001b[0m\u001b[0;34m\u001b[0m\u001b[0;34m\u001b[0m\u001b[0m\n",
            "\u001b[0;32m/usr/local/lib/python3.8/dist-packages/tensorflow/python/eager/execute.py\u001b[0m in \u001b[0;36mquick_execute\u001b[0;34m(op_name, num_outputs, inputs, attrs, ctx, name)\u001b[0m\n\u001b[1;32m     50\u001b[0m   \u001b[0;32mtry\u001b[0m\u001b[0;34m:\u001b[0m\u001b[0;34m\u001b[0m\u001b[0;34m\u001b[0m\u001b[0m\n\u001b[1;32m     51\u001b[0m     \u001b[0mctx\u001b[0m\u001b[0;34m.\u001b[0m\u001b[0mensure_initialized\u001b[0m\u001b[0;34m(\u001b[0m\u001b[0;34m)\u001b[0m\u001b[0;34m\u001b[0m\u001b[0;34m\u001b[0m\u001b[0m\n\u001b[0;32m---> 52\u001b[0;31m     tensors = pywrap_tfe.TFE_Py_Execute(ctx._handle, device_name, op_name,\n\u001b[0m\u001b[1;32m     53\u001b[0m                                         inputs, attrs, num_outputs)\n\u001b[1;32m     54\u001b[0m   \u001b[0;32mexcept\u001b[0m \u001b[0mcore\u001b[0m\u001b[0;34m.\u001b[0m\u001b[0m_NotOkStatusException\u001b[0m \u001b[0;32mas\u001b[0m \u001b[0me\u001b[0m\u001b[0;34m:\u001b[0m\u001b[0;34m\u001b[0m\u001b[0;34m\u001b[0m\u001b[0m\n",
            "\u001b[0;31mKeyboardInterrupt\u001b[0m: "
          ]
        }
      ]
    },
    {
      "cell_type": "markdown",
      "source": [
        "## Prediction"
      ],
      "metadata": {
        "id": "8s3PHYVnHXRt"
      }
    },
    {
      "cell_type": "code",
      "source": [
        "# Test Image\n",
        "index=10\n",
        "\n",
        "test=X[index]\n",
        "actual=y[index]\n",
        "file='/content/download.jpg'\n",
        "test=cv2.imread(file,cv2.IMREAD_GRAYSCALE)\n",
        "test=cv2.resize(test,(64,64))\n",
        "test=np.array(test)\n",
        "image=test\n",
        "\n",
        "# Prediction\n",
        "prediction=model.predict(test.reshape(-1,64,64,1))[0]\n",
        "prediction=np.where(prediction>0.3,1,0).astype(prediction.dtype)\n",
        "\n",
        "#Subplots \n",
        "plt.subplot(1, 3, 1)\n",
        "plt.imshow(image,cmap='gray')\n",
        "plt.subplot(1, 3, 2)\n",
        "plt.imshow(actual,cmap='gray')\n",
        "plt.subplot(1, 3, 3)\n",
        "plt.imshow(prediction,cmap='gray')\n",
        "plt.show()\n",
        "# test.reshape(-1,128,128,1)"
      ],
      "metadata": {
        "id": "GEUg39Np1vzY",
        "colab": {
          "base_uri": "https://localhost:8080/",
          "height": 167
        },
        "outputId": "a8a6cca2-ae31-4ed8-e9e5-5272885f7fe5"
      },
      "execution_count": null,
      "outputs": [
        {
          "output_type": "stream",
          "name": "stdout",
          "text": [
            "1/1 [==============================] - 0s 24ms/step\n"
          ]
        },
        {
          "output_type": "display_data",
          "data": {
            "text/plain": [
              "<Figure size 432x288 with 3 Axes>"
            ],
            "image/png": "[encoded data removed]"
          },
          "metadata": {
            "needs_background": "light"
          }
        }
      ]
    },
    {
      "cell_type": "markdown",
      "source": [
        "## Prediction on Random Image"
      ],
      "metadata": {
        "id": "U5w7jNkVIAEs"
      }
    },
    {
      "cell_type": "code",
      "source": [
        "test_loss, test_acc = model.evaluate(x=test_images, y=test_labels, verbose=1)\n",
        "print('Accuracy = %f' % test_acc)"
      ],
      "metadata": {
        "id": "0M1uTAoqY31X"
      },
      "execution_count": null,
      "outputs": []
    },
    {
      "cell_type": "code",
      "source": [
        "# mnist = tf.keras.datasets.mnist\n",
        "# (train_images, train_labels), (test_images, test_labels) = mnist.load_data()\n",
        "# train_images = train_images/255.0;\n",
        "# test_images = test_images/255.0;"
      ],
      "metadata": {
        "id": "GgR2F_gGHJ_W"
      },
      "execution_count": null,
      "outputs": []
    },
    {
      "cell_type": "code",
      "source": [
        "# plt.imshow(test_images[0]*255,cmap='gray')"
      ],
      "metadata": {
        "id": "DuohYKiKrRQr"
      },
      "execution_count": null,
      "outputs": []
    }
  ]
}